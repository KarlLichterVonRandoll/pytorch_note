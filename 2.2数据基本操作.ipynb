{
 "cells": [
  {
   "cell_type": "markdown",
   "metadata": {},
   "source": [
    "# 2.2.1 创建tensor"
   ]
  },
  {
   "cell_type": "code",
   "execution_count": 1,
   "metadata": {},
   "outputs": [],
   "source": [
    "import torch"
   ]
  },
  {
   "cell_type": "code",
   "execution_count": 2,
   "metadata": {},
   "outputs": [
    {
     "name": "stdout",
     "output_type": "stream",
     "text": [
      "tensor([[8.7245e-39, 1.0286e-38, 9.0919e-39],\n",
      "        [9.0919e-39, 9.2755e-39, 8.7245e-39],\n",
      "        [9.4592e-39, 9.6429e-39, 4.2246e-39],\n",
      "        [1.0286e-38, 1.0653e-38, 1.0194e-38],\n",
      "        [4.1328e-39, 5.1429e-39, 1.0286e-38]])\n"
     ]
    }
   ],
   "source": [
    "x = torch.empty(5, 3) # 创建一个未初始化的tensor\n",
    "print(x)"
   ]
  },
  {
   "cell_type": "code",
   "execution_count": 3,
   "metadata": {},
   "outputs": [
    {
     "name": "stdout",
     "output_type": "stream",
     "text": [
      "tensor([[0.2237, 0.7459, 0.5001],\n",
      "        [0.0650, 0.5876, 0.4005],\n",
      "        [0.9533, 0.0064, 0.4559],\n",
      "        [0.3028, 0.4421, 0.8610],\n",
      "        [0.2507, 0.0220, 0.5657]])\n"
     ]
    }
   ],
   "source": [
    "x = torch.rand(5, 3) # 创建一个随机初始化的tensor\n",
    "print(x)"
   ]
  },
  {
   "cell_type": "code",
   "execution_count": 4,
   "metadata": {},
   "outputs": [
    {
     "name": "stdout",
     "output_type": "stream",
     "text": [
      "tensor([[0, 0, 0],\n",
      "        [0, 0, 0],\n",
      "        [0, 0, 0],\n",
      "        [0, 0, 0],\n",
      "        [0, 0, 0]])\n"
     ]
    }
   ],
   "source": [
    "x = torch.zeros(5, 3, dtype=torch.long) # 创建一个long型全0的tensor\n",
    "print(x)"
   ]
  },
  {
   "cell_type": "code",
   "execution_count": 5,
   "metadata": {},
   "outputs": [
    {
     "name": "stdout",
     "output_type": "stream",
     "text": [
      "tensor([5.5000, 3.0000])\n"
     ]
    }
   ],
   "source": [
    "x = torch.tensor([5.5, 3]) # 根据数据创建\n",
    "print(x)"
   ]
  },
  {
   "cell_type": "code",
   "execution_count": 6,
   "metadata": {},
   "outputs": [
    {
     "name": "stdout",
     "output_type": "stream",
     "text": [
      "tensor([[1., 1., 1.],\n",
      "        [1., 1., 1.],\n",
      "        [1., 1., 1.],\n",
      "        [1., 1., 1.],\n",
      "        [1., 1., 1.]], dtype=torch.float64)\n",
      "tensor([[ 1.0709, -0.8734, -0.9883],\n",
      "        [ 0.5153, -1.4923,  0.0804],\n",
      "        [-1.0559, -0.4328, -0.0104],\n",
      "        [ 0.5882,  0.8566, -0.8835],\n",
      "        [-0.1134, -0.0289,  2.0097]])\n"
     ]
    }
   ],
   "source": [
    "x = x.new_ones(5, 3, dtype=torch.float64) # 返回的tensor有相同的dtype\n",
    "print(x)\n",
    "\n",
    "x = torch.randn_like(x, dtype=torch.float) # 通过现有的tensor创建\n",
    "print(x)"
   ]
  },
  {
   "cell_type": "code",
   "execution_count": 7,
   "metadata": {},
   "outputs": [
    {
     "name": "stdout",
     "output_type": "stream",
     "text": [
      "torch.Size([5, 3])\n",
      "torch.Size([5, 3])\n"
     ]
    }
   ],
   "source": [
    "print(x.size())\n",
    "print(x.shape)"
   ]
  },
  {
   "cell_type": "markdown",
   "metadata": {},
   "source": [
    "# 2.2.2 操作"
   ]
  },
  {
   "cell_type": "code",
   "execution_count": 8,
   "metadata": {},
   "outputs": [
    {
     "name": "stdout",
     "output_type": "stream",
     "text": [
      "tensor([[ 1.7121, -0.8198, -0.8699],\n",
      "        [ 0.8192, -0.6845,  0.6859],\n",
      "        [-0.4000, -0.3354,  0.5253],\n",
      "        [ 0.8644,  1.0909, -0.8279],\n",
      "        [ 0.3728,  0.0367,  2.9263]])\n",
      "tensor([[ 1.7121, -0.8198, -0.8699],\n",
      "        [ 0.8192, -0.6845,  0.6859],\n",
      "        [-0.4000, -0.3354,  0.5253],\n",
      "        [ 0.8644,  1.0909, -0.8279],\n",
      "        [ 0.3728,  0.0367,  2.9263]])\n",
      "tensor([[ 1.7121, -0.8198, -0.8699],\n",
      "        [ 0.8192, -0.6845,  0.6859],\n",
      "        [-0.4000, -0.3354,  0.5253],\n",
      "        [ 0.8644,  1.0909, -0.8279],\n",
      "        [ 0.3728,  0.0367,  2.9263]])\n",
      "tensor([[ 1.7121, -0.8198, -0.8699],\n",
      "        [ 0.8192, -0.6845,  0.6859],\n",
      "        [-0.4000, -0.3354,  0.5253],\n",
      "        [ 0.8644,  1.0909, -0.8279],\n",
      "        [ 0.3728,  0.0367,  2.9263]])\n"
     ]
    }
   ],
   "source": [
    "# 多种加法操作\n",
    "y = torch.rand(5, 3)\n",
    "print(x + y)\n",
    "\n",
    "print(torch.add(x, y))\n",
    "\n",
    "result = torch.empty(5, 3)\n",
    "torch.add(x, y, out=result) # 指定输出\n",
    "print(result)\n",
    "\n",
    "y.add_(x)\n",
    "print(y)"
   ]
  },
  {
   "cell_type": "code",
   "execution_count": 9,
   "metadata": {},
   "outputs": [
    {
     "name": "stdout",
     "output_type": "stream",
     "text": [
      "tensor([ 1.0709, -0.8734, -0.9883])\n",
      "tensor([2.0709, 0.1266, 0.0117])\n",
      "tensor([2.0709, 0.1266, 0.0117])\n"
     ]
    }
   ],
   "source": [
    "# 索引\n",
    "y = x[0, :] # 索引出来的结果与原数据共享内存\n",
    "print(y)\n",
    "y += 1\n",
    "print(y)\n",
    "print(x[0, :]) # 原数据也被修改"
   ]
  },
  {
   "cell_type": "code",
   "execution_count": 12,
   "metadata": {},
   "outputs": [
    {
     "name": "stdout",
     "output_type": "stream",
     "text": [
      "torch.Size([5, 3]) torch.Size([15]) torch.Size([3, 5])\n",
      "tensor([[4.0709, 2.1266, 2.0117],\n",
      "        [2.5153, 0.5077, 2.0804],\n",
      "        [0.9441, 1.5672, 1.9896],\n",
      "        [2.5882, 2.8566, 1.1165],\n",
      "        [1.8866, 1.9711, 4.0097]])\n",
      "tensor([4.0709, 2.1266, 2.0117, 2.5153, 0.5077, 2.0804, 0.9441, 1.5672, 1.9896,\n",
      "        2.5882, 2.8566, 1.1165, 1.8866, 1.9711, 4.0097])\n",
      "使用clone返回一个真正的新的副本，不共享内存\n",
      "tensor([[ 3.0709,  1.1266,  1.0117],\n",
      "        [ 1.5153, -0.4923,  1.0804],\n",
      "        [-0.0559,  0.5672,  0.9896],\n",
      "        [ 1.5882,  1.8566,  0.1165],\n",
      "        [ 0.8866,  0.9711,  3.0097]])\n",
      "tensor([4.0709, 2.1266, 2.0117, 2.5153, 0.5077, 2.0804, 0.9441, 1.5672, 1.9896,\n",
      "        2.5882, 2.8566, 1.1165, 1.8866, 1.9711, 4.0097])\n"
     ]
    }
   ],
   "source": [
    "# 改变形状\n",
    "y = x.view(15) \n",
    "z = x.view(-1, 5) # -1所指的维度可以根据其他维度的值推出来\n",
    "print(x.size(), y.size(), z.size())\n",
    "\n",
    "# view返回的新tensor也是共享data的\n",
    "x += 1\n",
    "print(x)\n",
    "print(y)\n",
    "\n",
    "print(\"使用clone返回一个真正的新的副本，不共享内存\")\n",
    "x_cp = x.clone().view(15)\n",
    "x -= 1\n",
    "print(x)\n",
    "print(x_cp)"
   ]
  },
  {
   "cell_type": "code",
   "execution_count": 13,
   "metadata": {},
   "outputs": [
    {
     "name": "stdout",
     "output_type": "stream",
     "text": [
      "使用item()把标量tensor转化为一个python number\n",
      "tensor([-1.5403])\n",
      "-1.5402889251708984\n"
     ]
    }
   ],
   "source": [
    "print(\"使用item()把标量tensor转化为一个python number\")\n",
    "x = torch.randn(1)\n",
    "print(x)\n",
    "print(x.item())"
   ]
  },
  {
   "cell_type": "markdown",
   "metadata": {},
   "source": [
    "# 2.2.3 广播机制"
   ]
  },
  {
   "cell_type": "code",
   "execution_count": 14,
   "metadata": {},
   "outputs": [
    {
     "name": "stdout",
     "output_type": "stream",
     "text": [
      "对于形状不同的两个tensor，先适当复制元素使他们形状相同再按元素运算\n",
      "tensor([[1, 2]])\n",
      "tensor([[1],\n",
      "        [2],\n",
      "        [3]])\n",
      "tensor([[2, 3],\n",
      "        [3, 4],\n",
      "        [4, 5]])\n"
     ]
    }
   ],
   "source": [
    "print(\"对于形状不同的两个tensor，先适当复制元素使他们形状相同再按元素运算\")\n",
    "x = torch.arange(1, 3).view(1, 2)\n",
    "print(x)\n",
    "y = torch.arange(1, 4).view(3, 1)\n",
    "print(y)\n",
    "print(x + y)"
   ]
  },
  {
   "cell_type": "markdown",
   "metadata": {},
   "source": [
    "# 2.2.4 运算的内存开销"
   ]
  },
  {
   "cell_type": "code",
   "execution_count": 15,
   "metadata": {},
   "outputs": [
    {
     "name": "stdout",
     "output_type": "stream",
     "text": [
      "使用id来判断是否新开辟内存\n",
      "False\n"
     ]
    }
   ],
   "source": [
    "print(\"使用id来判断是否新开辟内存\")\n",
    "x = torch.tensor([1, 2])\n",
    "y = torch.tensor([3, 4])\n",
    "id_before = id(y)\n",
    "y = y + x\n",
    "print(id_before == id(y))"
   ]
  },
  {
   "cell_type": "code",
   "execution_count": 16,
   "metadata": {},
   "outputs": [
    {
     "name": "stdout",
     "output_type": "stream",
     "text": [
      "使用索引把结果写回原来的内存\n",
      "True\n"
     ]
    }
   ],
   "source": [
    "print(\"使用索引把结果写回原来的内存\")\n",
    "x = torch.tensor([1, 2])\n",
    "y = torch.tensor([3, 4])\n",
    "id_before = id(y)\n",
    "y[:] = y + x\n",
    "print(id_before == id(y))"
   ]
  },
  {
   "cell_type": "code",
   "execution_count": 18,
   "metadata": {},
   "outputs": [
    {
     "name": "stdout",
     "output_type": "stream",
     "text": [
      "使用自加运算+=(add_())、out参数能达到同样效果\n",
      "True\n"
     ]
    }
   ],
   "source": [
    "print(\"使用自加运算+=(add_())、out参数能达到同样效果\")\n",
    "x = torch.tensor([1, 2])\n",
    "y = torch.tensor([3, 4])\n",
    "id_before = id(y)\n",
    "torch.add(x, y, out=y) # y+=x  y.add_(x)\n",
    "print(id(y) == id_before)"
   ]
  },
  {
   "cell_type": "markdown",
   "metadata": {},
   "source": [
    "# 2.2.5 Tensor与Numpy相互转换"
   ]
  },
  {
   "cell_type": "code",
   "execution_count": 19,
   "metadata": {},
   "outputs": [
    {
     "name": "stdout",
     "output_type": "stream",
     "text": [
      "使用 numpy() 或 from_numpy() 将 tensor 和 Numpy 中的数组相互转换，产生的数组共享内存，一个变，另一个也会变；使用 torch.tensor() 转换 numpy 数据会进行数据拷贝，返回值不再共享内存\n"
     ]
    }
   ],
   "source": [
    "print(\"使用 numpy() 或 from_numpy() 将 tensor 和 Numpy 中的数组相互转换，产生的数组共享内存，一个变，另一个也会变；使用 torch.tensor() 转换 numpy 数据会进行数据拷贝，返回值不再共享内存\")"
   ]
  },
  {
   "cell_type": "code",
   "execution_count": 20,
   "metadata": {},
   "outputs": [
    {
     "name": "stdout",
     "output_type": "stream",
     "text": [
      "tensor([1., 1., 1., 1., 1.]) [1. 1. 1. 1. 1.]\n",
      "tensor([2., 2., 2., 2., 2.]) [2. 2. 2. 2. 2.]\n",
      "tensor([3., 3., 3., 3., 3.]) [3. 3. 3. 3. 3.]\n"
     ]
    }
   ],
   "source": [
    "a = torch.ones(5)\n",
    "b = a.numpy()\n",
    "print(a, b)\n",
    "\n",
    "a += 1\n",
    "print(a, b)\n",
    "b += 1\n",
    "print(a , b)"
   ]
  },
  {
   "cell_type": "code",
   "execution_count": 21,
   "metadata": {},
   "outputs": [
    {
     "name": "stdout",
     "output_type": "stream",
     "text": [
      "[1. 1. 1. 1. 1.] tensor([1., 1., 1., 1., 1.], dtype=torch.float64)\n",
      "[2. 2. 2. 2. 2.] tensor([2., 2., 2., 2., 2.], dtype=torch.float64)\n",
      "[3. 3. 3. 3. 3.] tensor([3., 3., 3., 3., 3.], dtype=torch.float64)\n"
     ]
    }
   ],
   "source": [
    "import numpy as np\n",
    "\n",
    "a = np.ones(5)\n",
    "b = torch.from_numpy(a)\n",
    "print(a, b)\n",
    "\n",
    "a += 1\n",
    "print(a, b)\n",
    "b += 1\n",
    "print(a, b)"
   ]
  },
  {
   "cell_type": "code",
   "execution_count": 22,
   "metadata": {},
   "outputs": [
    {
     "name": "stdout",
     "output_type": "stream",
     "text": [
      "[4. 4. 4. 4. 4.] tensor([3., 3., 3., 3., 3.], dtype=torch.float64)\n"
     ]
    }
   ],
   "source": [
    "c = torch.tensor(a)\n",
    "a += 1\n",
    "print(a, c)"
   ]
  },
  {
   "cell_type": "markdown",
   "metadata": {},
   "source": [
    "# 2.2.6 Tensor on GPU"
   ]
  },
  {
   "cell_type": "code",
   "execution_count": 24,
   "metadata": {},
   "outputs": [
    {
     "name": "stdout",
     "output_type": "stream",
     "text": [
      "使用to()方法将tensor在CPU和GPU之间相互移动\n",
      "但是我买不起GPU\n"
     ]
    }
   ],
   "source": [
    "print(\"使用to()方法将tensor在CPU和GPU之间相互移动\")\n",
    "if torch.cuda.is_available():\n",
    "    device = torch.device(\"cuda\")\n",
    "    y = torch.ones_like(x, device=device)\n",
    "    x = x.to(device)\n",
    "    z = x + y\n",
    "    print(z)\n",
    "    print(z.to(\"cpu\", torch.double))\n",
    "else:\n",
    "    print(\"但是我买不起GPU\")"
   ]
  },
  {
   "cell_type": "code",
   "execution_count": null,
   "metadata": {},
   "outputs": [],
   "source": []
  }
 ],
 "metadata": {
  "kernelspec": {
   "display_name": "Python 3",
   "language": "python",
   "name": "python3"
  },
  "language_info": {
   "codemirror_mode": {
    "name": "ipython",
    "version": 3
   },
   "file_extension": ".py",
   "mimetype": "text/x-python",
   "name": "python",
   "nbconvert_exporter": "python",
   "pygments_lexer": "ipython3",
   "version": "3.8.5"
  }
 },
 "nbformat": 4,
 "nbformat_minor": 4
}

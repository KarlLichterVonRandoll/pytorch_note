{
 "cells": [
  {
   "cell_type": "markdown",
   "metadata": {},
   "source": [
    "# 2.3 自动求梯度\n",
    "使用autograd包自动求梯度"
   ]
  },
  {
   "cell_type": "markdown",
   "metadata": {},
   "source": [
    "# 2.3.1 概念"
   ]
  },
  {
   "cell_type": "code",
   "execution_count": 1,
   "metadata": {},
   "outputs": [],
   "source": [
    "import torch"
   ]
  },
  {
   "cell_type": "code",
   "execution_count": 2,
   "metadata": {},
   "outputs": [
    {
     "name": "stdout",
     "output_type": "stream",
     "text": [
      "将Tensor的属性.requires_grad设置为True，将开始追踪在其身上的所有操作，完成计算后可以调用.backward()来完成所有梯度计算，梯度累积到.grad属性中\n"
     ]
    }
   ],
   "source": [
    "print(\"将Tensor的属性.requires_grad设置为True，将开始追踪在其身上的所有操作，完成计算后可以调用.backward()来完成所有梯度计算，梯度累积到.grad属性中\")"
   ]
  },
  {
   "cell_type": "markdown",
   "metadata": {},
   "source": [
    "# 2.3.2 Tensor"
   ]
  },
  {
   "cell_type": "code",
   "execution_count": 3,
   "metadata": {},
   "outputs": [
    {
     "name": "stdout",
     "output_type": "stream",
     "text": [
      "tensor([[1., 1.],\n",
      "        [1., 1.]], requires_grad=True)\n",
      "\n",
      "每个tensor的.grad_fn属性，即创建该tensor的Function，该tensor是不是通过某些运算得到的，若是，则返回一个与这些运算相关的对象，否则为None\n",
      "None\n"
     ]
    }
   ],
   "source": [
    "x = torch.ones(2, 2, requires_grad=True)\n",
    "print(x)\n",
    "print()\n",
    "print(\"每个tensor的.grad_fn属性，即创建该tensor的Function，该tensor是不是通过某些运算得到的，若是，则返回一个与这些运算相关的对象，否则为None\")\n",
    "print(x.grad_fn)"
   ]
  },
  {
   "cell_type": "code",
   "execution_count": 4,
   "metadata": {},
   "outputs": [
    {
     "name": "stdout",
     "output_type": "stream",
     "text": [
      "然后做一下运算\n",
      "tensor([[3., 3.],\n",
      "        [3., 3.]], grad_fn=<AddBackward0>)\n",
      "<AddBackward0 object at 0x000001FE901F66A0>\n"
     ]
    }
   ],
   "source": [
    "print(\"然后做一下运算\")\n",
    "y = x + 2\n",
    "print(y)\n",
    "print(y.grad_fn)"
   ]
  },
  {
   "cell_type": "code",
   "execution_count": 5,
   "metadata": {},
   "outputs": [
    {
     "name": "stdout",
     "output_type": "stream",
     "text": [
      "x这样直接创建的称为叶子节点，叶子节点对应的grad_fn为None\n",
      "True False\n"
     ]
    }
   ],
   "source": [
    "print(\"x这样直接创建的称为叶子节点，叶子节点对应的grad_fn为None\")\n",
    "print(x.is_leaf, y.is_leaf)"
   ]
  },
  {
   "cell_type": "code",
   "execution_count": 6,
   "metadata": {},
   "outputs": [
    {
     "name": "stdout",
     "output_type": "stream",
     "text": [
      "再复杂一点的运算操作\n",
      "tensor([[27., 27.],\n",
      "        [27., 27.]], grad_fn=<MulBackward0>) tensor(27., grad_fn=<MeanBackward0>)\n"
     ]
    }
   ],
   "source": [
    "print(\"再复杂一点的运算操作\")\n",
    "z = y * y * 3\n",
    "out = z.mean()\n",
    "print(z, out)"
   ]
  },
  {
   "cell_type": "code",
   "execution_count": 7,
   "metadata": {},
   "outputs": [
    {
     "name": "stdout",
     "output_type": "stream",
     "text": [
      "通过.requires_grad()来用in-place的方式改变requires_grad属性\n",
      "False\n",
      "True\n",
      "<SumBackward0 object at 0x000001FE8BBD9190>\n"
     ]
    }
   ],
   "source": [
    "print(\"通过.requires_grad()来用in-place的方式改变requires_grad属性\")\n",
    "a = torch.randn(2, 2) # 缺失情况下默认 requires_grad = False\n",
    "a = ((a * 3) / (a - 1))\n",
    "print(a.requires_grad) # False\n",
    "a.requires_grad_(True)\n",
    "print(a.requires_grad) # True\n",
    "b = (a * a).sum()\n",
    "print(b.grad_fn)"
   ]
  },
  {
   "cell_type": "markdown",
   "metadata": {},
   "source": [
    "# 2.3.3 梯度"
   ]
  },
  {
   "cell_type": "code",
   "execution_count": 8,
   "metadata": {},
   "outputs": [
    {
     "name": "stdout",
     "output_type": "stream",
     "text": [
      "因为out是一个标量，所以调用backward()时不需要指定求导变量\n"
     ]
    }
   ],
   "source": [
    "print(\"因为out是一个标量，所以调用backward()时不需要指定求导变量\")\n",
    "out.backward()"
   ]
  },
  {
   "cell_type": "code",
   "execution_count": 9,
   "metadata": {},
   "outputs": [
    {
     "name": "stdout",
     "output_type": "stream",
     "text": [
      "tensor([[4.5000, 4.5000],\n",
      "        [4.5000, 4.5000]])\n"
     ]
    }
   ],
   "source": [
    "print(x.grad)"
   ]
  },
  {
   "cell_type": "markdown",
   "metadata": {},
   "source": [
    "##### 令上面的 out 为 $O$，  \n",
    "$$O= \\frac{1}{4}\\sum^{4}_{i=1}z_i=\\frac{1}{4}\\sum^4_{i=1}3(x_i+2)^2$$\n",
    "##### 所以，\n",
    "$$\\frac{\\partial o}{\\partial x_i}|_{x_i=1}=\\frac{9}{2}=4.5$$\n",
    "##### 数学上，函数值和自变量都是向量的函数 $\\vec{y}=f(\\vec{x})$，那么 $\\vec{y}$ 关于 $\\vec{x}$ 的梯度就是一个雅克比矩阵：\n",
    "$$J=\n",
    "\\begin{pmatrix}\n",
    "\\frac{\\partial{y_1}}{\\partial{x_1}} & \\dots & \\frac{\\partial{y_1}}{\\partial{x_n}}\\\\ \n",
    "\\vdots & \\ddots & \\vdots\\\\ \n",
    "\\frac{\\partial{y_m}}{\\partial{x_1}} & \\dots & \\frac{\\partial{y_m}}{\\partial{x_n}}\n",
    "\\end{pmatrix}\\\\\n",
    "$$\n",
    "##### 而 torch.autograd 这个包用来计算一些雅克比矩阵的乘积，以满足链式求导法则，例如 $v$ 是一个标量函数 $l=g(\\vec{y})$的梯度：\n",
    "$$v = \n",
    "\\begin{pmatrix}\n",
    "\\frac{\\partial{l}}{\\partial{y_1}} & \\dots & \\frac{\\partial{l}}{\\partial{y_m}}\n",
    "\\end{pmatrix}\n",
    "$$\n",
    "##### 根据链式求导法则有 $l$ 关于 $\\vec{x}$ 的雅克比矩阵为：\n",
    "$$\n",
    "vJ=\n",
    "\\begin{pmatrix}\n",
    "\\frac{\\partial{l}}{\\partial{y_1}} & \\dots & \\frac{\\partial{l}}{\\partial{y_m}}\n",
    "\\end{pmatrix}\n",
    "\\begin{pmatrix}\n",
    "\\frac{\\partial{y_1}}{\\partial{x_1}} & \\dots & \\frac{\\partial{y_1}}{\\partial{x_n}}\\\\ \n",
    "\\vdots & \\ddots & \\vdots\\\\ \n",
    "\\frac{\\partial{y_m}}{\\partial{x_1}} & \\dots & \\frac{\\partial{y_m}}{\\partial{x_n}}\n",
    "\\end{pmatrix}\n",
    "=\\begin{pmatrix}\n",
    "\\frac{\\partial{l}}{\\partial{x_1}} & \\dots & \\frac{\\partial{l}}{\\partial{x_n}}\n",
    "\\end{pmatrix}\n",
    "$$"
   ]
  },
  {
   "cell_type": "code",
   "execution_count": 10,
   "metadata": {},
   "outputs": [
    {
     "name": "stdout",
     "output_type": "stream",
     "text": [
      "grad 在反向传播过程中是累加的，每一次运行反向传播，梯度都会累加之前的梯度，所以一般反向传播之前都需将梯度清零\n",
      "\n",
      "tensor([[5.5000, 5.5000],\n",
      "        [5.5000, 5.5000]])\n",
      "tensor([[1., 1.],\n",
      "        [1., 1.]])\n"
     ]
    }
   ],
   "source": [
    "print(\"grad 在反向传播过程中是累加的，每一次运行反向传播，梯度都会累加之前的梯度，所以一般反向传播之前都需将梯度清零\")\n",
    "print()\n",
    "out2 = x.sum()\n",
    "out2.backward()\n",
    "print(x.grad)\n",
    "\n",
    "out3 = x.sum()\n",
    "x.grad.data.zero_()\n",
    "out3.backward()\n",
    "print(x.grad)"
   ]
  },
  {
   "cell_type": "code",
   "execution_count": null,
   "metadata": {},
   "outputs": [],
   "source": []
  },
  {
   "cell_type": "code",
   "execution_count": 11,
   "metadata": {},
   "outputs": [
    {
     "name": "stdout",
     "output_type": "stream",
     "text": [
      "tensor([[2., 4.],\n",
      "        [6., 8.]], grad_fn=<ViewBackward>)\n"
     ]
    }
   ],
   "source": [
    "x = torch.tensor([1.0, 2.0, 3.0, 4.0], requires_grad=True)\n",
    "y = 2 * x\n",
    "z = y.view(2, 2)\n",
    "print(z)"
   ]
  },
  {
   "cell_type": "code",
   "execution_count": 12,
   "metadata": {},
   "outputs": [
    {
     "name": "stdout",
     "output_type": "stream",
     "text": [
      "现在 z 不是标量，所以调用 backward 时需要传入一个和 z 同形的权重向量进行加权求和得到一个标量\n",
      "\n",
      "tensor([2.0000, 0.2000, 0.0200, 0.0020])\n"
     ]
    }
   ],
   "source": [
    "print(\"现在 z 不是标量，所以调用 backward 时需要传入一个和 z 同形的权重向量进行加权求和得到一个标量\\n\")\n",
    "\n",
    "v = torch.tensor([[1.0, 0.1], [0.01, 0.001]], dtype=torch.float)\n",
    "z.backward(v)\n",
    "print(x.grad)"
   ]
  },
  {
   "cell_type": "code",
   "execution_count": 13,
   "metadata": {},
   "outputs": [
    {
     "name": "stdout",
     "output_type": "stream",
     "text": [
      "关于中断梯度追踪的例子\n",
      "\n",
      "True\n",
      "tensor(1., grad_fn=<PowBackward0>) True\n",
      "tensor(1.) False\n",
      "tensor(1.) True\n"
     ]
    }
   ],
   "source": [
    "print(\"关于中断梯度追踪的例子\\n\")\n",
    "x = torch.tensor(1.0, requires_grad=True)\n",
    "y1 = x ** 2\n",
    "with torch.no_grad():\n",
    "    y2 = x ** 3\n",
    "    \n",
    "y3 = y1 + y2\n",
    "\n",
    "print(x.requires_grad)\n",
    "print(y1, y1.requires_grad)\n",
    "print(y2, y2.requires_grad)\n",
    "print(y2, y3.requires_grad)"
   ]
  },
  {
   "cell_type": "code",
   "execution_count": 14,
   "metadata": {},
   "outputs": [
    {
     "name": "stdout",
     "output_type": "stream",
     "text": [
      "tensor(2.)\n"
     ]
    }
   ],
   "source": [
    "y1.backward()\n",
    "print(x.grad)"
   ]
  },
  {
   "cell_type": "code",
   "execution_count": 15,
   "metadata": {},
   "outputs": [
    {
     "name": "stdout",
     "output_type": "stream",
     "text": [
      "如果要修改tensor的数值，又不希望被autograd记录（即不会影响反向传播），可以对tensor.data进行操作\n",
      "tensor([1.])\n",
      "False\n",
      "tensor([100.], requires_grad=True)\n",
      "tensor([2.])\n"
     ]
    }
   ],
   "source": [
    "print(\"如果要修改tensor的数值，又不希望被autograd记录（即不会影响反向传播），可以对tensor.data进行操作\")\n",
    "x = torch.ones(1,requires_grad=True)\n",
    "\n",
    "print(x.data) # 还是一个tensor\n",
    "print(x.data.requires_grad) # 但是已经是独立于计算图之外\n",
    "\n",
    "y = 2 * x\n",
    "x.data *= 100 # 只改变了值，不会记录在计算图，所以不会影响梯度传播\n",
    "\n",
    "y.backward(retain_graph=True)\n",
    "print(x) # 更改data的值也会影响tensor的值\n",
    "print(x.grad)"
   ]
  },
  {
   "cell_type": "code",
   "execution_count": 16,
   "metadata": {},
   "outputs": [
    {
     "name": "stdout",
     "output_type": "stream",
     "text": [
      "tensor([100.], requires_grad=True)\n",
      "tensor([4.])\n"
     ]
    }
   ],
   "source": [
    "y.backward(retain_graph=True)\n",
    "print(x) # 更改data的值也会影响tensor的值\n",
    "print(x.grad)"
   ]
  },
  {
   "cell_type": "code",
   "execution_count": 17,
   "metadata": {},
   "outputs": [
    {
     "name": "stdout",
     "output_type": "stream",
     "text": [
      "tensor([100.], requires_grad=True)\n",
      "tensor([6.])\n"
     ]
    }
   ],
   "source": [
    "y.backward()\n",
    "print(x) # 更改data的值也会影响tensor的值\n",
    "print(x.grad)"
   ]
  },
  {
   "cell_type": "code",
   "execution_count": 19,
   "metadata": {},
   "outputs": [
    {
     "name": "stdout",
     "output_type": "stream",
     "text": [
      "tensor([6.])\n"
     ]
    }
   ],
   "source": [
    "print(x.grad)"
   ]
  },
  {
   "cell_type": "code",
   "execution_count": null,
   "metadata": {},
   "outputs": [],
   "source": []
  }
 ],
 "metadata": {
  "kernelspec": {
   "display_name": "Python 3",
   "language": "python",
   "name": "python3"
  },
  "language_info": {
   "codemirror_mode": {
    "name": "ipython",
    "version": 3
   },
   "file_extension": ".py",
   "mimetype": "text/x-python",
   "name": "python",
   "nbconvert_exporter": "python",
   "pygments_lexer": "ipython3",
   "version": "3.8.5"
  }
 },
 "nbformat": 4,
 "nbformat_minor": 4
}
